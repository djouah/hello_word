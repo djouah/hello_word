{
  "nbformat": 4,
  "nbformat_minor": 0,
  "metadata": {
    "colab": {
      "provenance": [],
      "authorship_tag": "ABX9TyNY8xQcx+qJcEpDvt47j3hg"
    },
    "kernelspec": {
      "name": "python3",
      "display_name": "Python 3"
    },
    "language_info": {
      "name": "python"
    }
  },
  "cells": [
    {
      "cell_type": "code",
      "source": [
        "def solution(x, y):\n",
        "    def somme (k): \n",
        "      s_=0\n",
        "      for i in range(k): \n",
        "        s_+=i\n",
        "      return s_  \n",
        "    Y=1+somme(y)\n",
        "    s__=Y\n",
        "    step=1+y\n",
        "    for i in range(x-1): \n",
        "      s__+=step+i\n",
        "    return s__"
      ],
      "metadata": {
        "id": "yfAFLZyHZwdt"
      },
      "execution_count": 52,
      "outputs": []
    },
    {
      "cell_type": "code",
      "source": [
        "solution(2,2)"
      ],
      "metadata": {
        "colab": {
          "base_uri": "https://localhost:8080/"
        },
        "id": "34wEKKLwZzhH",
        "outputId": "42d4d985-eab4-47cc-83a7-bbbc9e3872a3"
      },
      "execution_count": 53,
      "outputs": [
        {
          "output_type": "execute_result",
          "data": {
            "text/plain": [
              "5"
            ]
          },
          "metadata": {},
          "execution_count": 53
        }
      ]
    },
    {
      "cell_type": "code",
      "source": [
        "hal(3,3)"
      ],
      "metadata": {
        "colab": {
          "base_uri": "https://localhost:8080/"
        },
        "id": "VNO1d9Wib9Uo",
        "outputId": "db6e1886-3985-4234-b4e1-9585e60ba453"
      },
      "execution_count": 51,
      "outputs": [
        {
          "output_type": "execute_result",
          "data": {
            "text/plain": [
              "13"
            ]
          },
          "metadata": {},
          "execution_count": 51
        }
      ]
    }
  ]
}