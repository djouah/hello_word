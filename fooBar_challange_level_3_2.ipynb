{
  "nbformat": 4,
  "nbformat_minor": 0,
  "metadata": {
    "colab": {
      "provenance": [],
      "authorship_tag": "ABX9TyOBF1To8qx3sP/0igdwW4Vg"
    },
    "kernelspec": {
      "name": "python3",
      "display_name": "Python 3"
    },
    "language_info": {
      "name": "python"
    }
  },
  "cells": [
    {
      "cell_type": "code",
      "source": [
        "def solution(x, y):\n",
        "    def somme (k): \n",
        "      s_=0\n",
        "      for i in range(k): \n",
        "        s_+=i\n",
        "      return s_  \n",
        "    Y=1+somme(y)\n",
        "    s__=Y\n",
        "    step=1+y\n",
        "    for i in range(x-1): \n",
        "      s__+=step+i\n",
        "    return s__"
      ],
      "metadata": {
        "id": "yfAFLZyHZwdt"
      },
      "execution_count": 1,
      "outputs": []
    },
    {
      "cell_type": "code",
      "source": [
        "solution(2,2)"
      ],
      "metadata": {
        "colab": {
          "base_uri": "https://localhost:8080/"
        },
        "id": "34wEKKLwZzhH",
        "outputId": "2e772195-85b1-4993-dac8-e87bec239759"
      },
      "execution_count": 2,
      "outputs": [
        {
          "output_type": "execute_result",
          "data": {
            "text/plain": [
              "5"
            ]
          },
          "metadata": {},
          "execution_count": 2
        }
      ]
    },
    {
      "cell_type": "code",
      "source": [],
      "metadata": {
        "colab": {
          "base_uri": "https://localhost:8080/"
        },
        "id": "VNO1d9Wib9Uo",
        "outputId": "db6e1886-3985-4234-b4e1-9585e60ba453"
      },
      "execution_count": 51,
      "outputs": [
        {
          "output_type": "execute_result",
          "data": {
            "text/plain": [
              "13"
            ]
          },
          "metadata": {},
          "execution_count": 51
        }
      ]
    }
  ]
}